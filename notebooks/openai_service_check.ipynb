{
 "cells": [
  {
   "cell_type": "code",
   "execution_count": 8,
   "id": "91c6e6b7",
   "metadata": {},
   "outputs": [
    {
     "data": {
      "text/plain": [
       "True"
      ]
     },
     "execution_count": 8,
     "metadata": {},
     "output_type": "execute_result"
    }
   ],
   "source": [
    "from pydantic import BaseModel, Field\n",
    "from openai import OpenAI\n",
    "from dotenv import load_dotenv\n",
    "load_dotenv(override=True)"
   ]
  },
  {
   "cell_type": "code",
   "execution_count": 17,
   "id": "11cc2d5d",
   "metadata": {},
   "outputs": [],
   "source": [
    "class CheckResult(BaseModel):\n",
    "    task_name: str = Field(..., description=\"Name of the task being checked. Keep exactly the same as the task name in the request. Normally it is bullet point\")\n",
    "    is_passed: bool = Field(..., description=\"Whether the task was completed successfully\")\n",
    "    description: str = Field(..., description=\"If the task was passed, a description is explain where it contains the result. If not, a description of the error\")\n",
    "\n",
    "class TaskCheckResponses(BaseModel):\n",
    "    results: list[CheckResult]"
   ]
  },
  {
   "cell_type": "code",
   "execution_count": 18,
   "id": "4d924afd",
   "metadata": {},
   "outputs": [],
   "source": [
    "task = '''You have decided to leave your current job and look for a new one.\n",
    "\n",
    "Write a letter to a friend. In your letter\n",
    "\n",
    "explain why you want to leave your current job\n",
    "describe what kind of job you are looking for\n",
    "ask for some help or advice'''\n",
    "response = '''Dear Luca,\n",
    "\n",
    "I am writing to let you know about my current job situation, hoping that you can give me some advice. I have decided to leave my current position at the Swaneset Company. I have worked there for several years now, and I think I have advanced as far as possible in this company. I would like to work at a larger company where there are more opportunities for advancement.\n",
    "\n",
    "As you know, my most recent position at Swaneset has been as a software engineer in the IT Department. I have learned a great deal about this type of work and am very interested in it. I am hoping to find a similar sort of position at a larger company. I do not mind starting at a new company at the same level as I am working at now, as long as I feel there are good opportunities to move up before too long.\n",
    "\n",
    "Since you have a lot of experience in this field, I was hoping that you could help me identify some companies that might be a good fit for me. I would also appreciate some help with my resume, if you do not mind my asking. I hope to hear from you soon.\n",
    "\n",
    "Your friend,\n",
    "John'''"
   ]
  },
  {
   "cell_type": "code",
   "execution_count": 19,
   "id": "0cdb447e",
   "metadata": {},
   "outputs": [],
   "source": [
    "client = OpenAI()\n",
    "completion = client.chat.completions.parse(\n",
    "    model=\"gpt-4o-mini\",\n",
    "    messages=[\n",
    "        {\"role\": \"system\", \"content\": \"Your duty is to check if the user has completed the tasks requested in their writing.\"},\n",
    "        {\"role\": \"user\", \"content\": f\"Given tasks: {task} \\nResponse: {response}\\nPlease check if the tasks are completed and provide a detailed report.\"},\n",
    "    ],\n",
    "    response_format=TaskCheckResponses,\n",
    ")\n",
    "\n",
    "result = completion.choices[0].message.parsed"
   ]
  },
  {
   "cell_type": "code",
   "execution_count": 20,
   "id": "c84b093f",
   "metadata": {},
   "outputs": [
    {
     "data": {
      "text/plain": [
       "[CheckResult(task_name='Write a letter to a friend.', is_passed=True, description=\"The letter is addressed to a friend, Luca, and discusses the user's job situation.\"),\n",
       " CheckResult(task_name='Explain why you want to leave your current job', is_passed=True, description='The letter states that the user feels they have advanced as far as possible in their current job at Swaneset Company.'),\n",
       " CheckResult(task_name='Describe what kind of job you are looking for', is_passed=True, description='The user describes wanting a similar position at a larger company with more opportunities for advancement.'),\n",
       " CheckResult(task_name='Ask for some help or advice', is_passed=True, description='The user explicitly asks Luca for help identifying suitable companies and assistance with their resume.')]"
      ]
     },
     "execution_count": 20,
     "metadata": {},
     "output_type": "execute_result"
    }
   ],
   "source": [
    "result.results"
   ]
  },
  {
   "cell_type": "code",
   "execution_count": null,
   "id": "b07503d5",
   "metadata": {},
   "outputs": [],
   "source": []
  }
 ],
 "metadata": {
  "kernelspec": {
   "display_name": ".venv",
   "language": "python",
   "name": "python3"
  },
  "language_info": {
   "codemirror_mode": {
    "name": "ipython",
    "version": 3
   },
   "file_extension": ".py",
   "mimetype": "text/x-python",
   "name": "python",
   "nbconvert_exporter": "python",
   "pygments_lexer": "ipython3",
   "version": "3.11.7"
  }
 },
 "nbformat": 4,
 "nbformat_minor": 5
}
